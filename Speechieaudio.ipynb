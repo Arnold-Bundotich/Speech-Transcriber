{
 "cells": [
  {
   "cell_type": "code",
   "execution_count": 9,
   "metadata": {},
   "outputs": [
    {
     "data": {
      "text/plain": [
       "'my name is Arnold are 24 years old and this is a python program'"
      ]
     },
     "execution_count": 9,
     "metadata": {},
     "output_type": "execute_result"
    }
   ],
   "source": [
    "#This code runs an audio file in wav format into text\n",
    "#You need to download the conda packages in your notebook using conda \n",
    "#You also need to download the speech recognition package on your notebook\n",
    "#pip install pipwin\n",
    "#conda config --add channels conda-forge \n",
    "#conda install pyaudio\n",
    "#conda update -n base -c defaults conda\n",
    "#conda install speechrecognition\n",
    "import speech_recognition as sr \n",
    "\n",
    "r = sr.Recognizer()\n",
    "#make sure the file is in the same folder as where you are running your code\n",
    "Arnold = sr.AudioFile('Arnold.wav')\n",
    "with Arnold as source:\n",
    "    r.adjust_for_ambient_noise(source) #removing noise in the audio file\n",
    "    audio = r.record(source)\n",
    "\n",
    "r.recognize_google(audio) #depending with connectivity the audio file is transcribed\n"
   ]
  }
 ],
 "metadata": {
  "kernelspec": {
   "display_name": "Python 3",
   "language": "python",
   "name": "python3"
  },
  "language_info": {
   "codemirror_mode": {
    "name": "ipython",
    "version": 3
   },
   "file_extension": ".py",
   "mimetype": "text/x-python",
   "name": "python",
   "nbconvert_exporter": "python",
   "pygments_lexer": "ipython3",
   "version": "3.7.6"
  }
 },
 "nbformat": 4,
 "nbformat_minor": 4
}
