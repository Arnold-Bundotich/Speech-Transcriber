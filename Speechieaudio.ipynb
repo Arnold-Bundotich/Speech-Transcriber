{
 "cells": [
  {
   "cell_type": "code",
   "execution_count": 3,
   "metadata": {},
   "outputs": [
    {
     "output_type": "stream",
     "name": "stdout",
     "text": [
      "sentence with all the alphabets in it so it goes the quick brown fox jumps over the lazy dog let's see how that goes\n"
     ]
    }
   ],
   "source": [
    "#This code runs an audio file in wav format into text\n",
    "#You need to download the conda packages in your notebook using conda \n",
    "#You also need to download the speech recognition package on your notebook\n",
    "#pip install pipwin\n",
    "#conda config --add channels conda-forge \n",
    "#conda install pyaudio\n",
    "#conda update -n base -c defaults conda\n",
    "#conda install speechrecognition\n",
    "import speech_recognition as sr \n",
    "from collections import Counter \n",
    "\n",
    "\n",
    "r = sr.Recognizer()\n",
    "#make sure the file is in the same folder as where you are running your code\n",
    "Fox = sr.AudioFile('Fox.wav')\n",
    "with Fox as source:\n",
    "    r.adjust_for_ambient_noise(source) #removing noise in the audio file\n",
    "    audio = r.record(source)\n",
    "\n",
    "r.recognize_google(audio) #depending with connectivity the audio file is transcribed\n",
    "text = r.recognize_google(audio)\n",
    "print(text)\n"
   ]
  },
  {
   "cell_type": "code",
   "execution_count": null,
   "metadata": {},
   "outputs": [],
   "source": []
  },
  {
   "cell_type": "code",
   "execution_count": 4,
   "metadata": {},
   "outputs": [
    {
     "output_type": "stream",
     "name": "stdout",
     "text": [
      "String\nsentence with all the alphabets in it so it goes the quick brown fox jumps over the lazy dog let's see how that goes\n\nList\n['sentence', 'with', 'all', 'the', 'alphabets', 'in', 'it', 'so', 'it', 'goes', 'the', 'quick', 'brown', 'fox', 'jumps', 'over', 'the', 'lazy', 'dog', \"let's\", 'see', 'how', 'that', 'goes']\n\nFrequencies\n[1, 1, 1, 3, 1, 1, 2, 1, 2, 2, 3, 1, 1, 1, 1, 1, 3, 1, 1, 1, 1, 1, 1, 2]\n\nPairs\n[('sentence', 1), ('with', 1), ('all', 1), ('the', 3), ('alphabets', 1), ('in', 1), ('it', 2), ('so', 1), ('it', 2), ('goes', 2), ('the', 3), ('quick', 1), ('brown', 1), ('fox', 1), ('jumps', 1), ('over', 1), ('the', 3), ('lazy', 1), ('dog', 1), (\"let's\", 1), ('see', 1), ('how', 1), ('that', 1), ('goes', 2)]\n"
     ]
    }
   ],
   "source": [
    "#creating a list of words in the text with different attributes\n",
    "wordlist = text.split()\n",
    "\n",
    "wordfreq = []\n",
    "for w in wordlist:\n",
    "    wordfreq.append(wordlist.count(w))\n",
    "\n",
    "print(\"String\\n\" + text +\"\\n\")\n",
    "print(\"List\\n\" + str(wordlist) + \"\\n\")\n",
    "print(\"Frequencies\\n\" + str(wordfreq) + \"\\n\")\n",
    "print(\"Pairs\\n\" + str(list(zip(wordlist, wordfreq))))"
   ]
  },
  {
   "cell_type": "code",
   "execution_count": 5,
   "metadata": {},
   "outputs": [
    {
     "output_type": "stream",
     "name": "stdout",
     "text": [
      "Pairs\n[('sentence', 1), ('with', 1), ('all', 1), ('the', 3), ('alphabets', 1), ('in', 1), ('it', 2), ('so', 1), ('it', 2), ('goes', 2), ('the', 3), ('quick', 1), ('brown', 1), ('fox', 1), ('jumps', 1), ('over', 1), ('the', 3), ('lazy', 1), ('dog', 1), (\"let's\", 1), ('see', 1), ('how', 1), ('that', 1), ('goes', 2)]\n"
     ]
    }
   ],
   "source": [
    "#creating a list of pairs (word, frequency of the word)\n",
    "wordlist = text.split()\n",
    "\n",
    "wordfreq = []\n",
    "for w in wordlist:\n",
    "    wordfreq.append(wordlist.count(w))\n",
    "print(\"Pairs\\n\" + str(list(zip(wordlist, wordfreq))))"
   ]
  },
  {
   "cell_type": "code",
   "execution_count": 6,
   "metadata": {},
   "outputs": [
    {
     "output_type": "stream",
     "name": "stdout",
     "text": [
      "{'sentence': 1, 'with': 1, 'all': 1, 'the': 3, 'alphabets': 1, 'in': 1, 'it': 2, 'so': 1, 'goes': 2, 'quick': 1, 'brown': 1, 'fox': 1, 'jumps': 1, 'over': 1, 'lazy': 1, 'dog': 1, \"let's\": 1, 'see': 1, 'how': 1, 'that': 1}\n"
     ]
    }
   ],
   "source": [
    "#creating a list of pairs (word, frequency of the word) as a dictionary\n",
    "wordlist = text.split()\n",
    "\n",
    "def wordListToFreqDict(wordlist):\n",
    "    wordfreq = [wordlist.count(p) for p in wordlist]\n",
    "    return dict(list(zip(wordlist,wordfreq)))\n",
    "#print(wordListToFreqDict(wordlist))\n",
    "\n",
    "FreqDict = (wordListToFreqDict(wordlist))\n",
    "print (FreqDict)"
   ]
  },
  {
   "cell_type": "code",
   "execution_count": 7,
   "metadata": {},
   "outputs": [
    {
     "output_type": "stream",
     "name": "stdout",
     "text": [
      "[(3, 'the'), (2, 'it'), (2, 'goes'), (1, 'with'), (1, 'that'), (1, 'so'), (1, 'sentence'), (1, 'see'), (1, 'quick'), (1, 'over'), (1, \"let's\"), (1, 'lazy'), (1, 'jumps'), (1, 'in'), (1, 'how'), (1, 'fox'), (1, 'dog'), (1, 'brown'), (1, 'alphabets'), (1, 'all')]\n"
     ]
    }
   ],
   "source": [
    "#sorting the words from the most spoken word to the least spoken words\n",
    "def sortFreqDict(FreqDict):\n",
    "    auxie = [(FreqDict[key], key) for key in FreqDict]\n",
    "    auxie.sort()\n",
    "    auxie.reverse()\n",
    "    return auxie\n",
    "sortedList = sortFreqDict(FreqDict)\n",
    "print (sortedList)"
   ]
  },
  {
   "cell_type": "code",
   "execution_count": null,
   "metadata": {},
   "outputs": [],
   "source": []
  }
 ],
 "metadata": {
  "kernelspec": {
   "display_name": "Python 3",
   "language": "python",
   "name": "python3"
  },
  "language_info": {
   "codemirror_mode": {
    "name": "ipython",
    "version": 3
   },
   "file_extension": ".py",
   "mimetype": "text/x-python",
   "name": "python",
   "nbconvert_exporter": "python",
   "pygments_lexer": "ipython3",
   "version": "3.7.6-final"
  }
 },
 "nbformat": 4,
 "nbformat_minor": 4
}