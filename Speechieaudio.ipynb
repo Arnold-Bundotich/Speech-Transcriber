{
 "cells": [
  {
   "cell_type": "code",
   "execution_count": 96,
   "metadata": {},
   "outputs": [
    {
     "name": "stdout",
     "output_type": "stream",
     "text": [
      "sentence with all the alphabets in it so it goes the quick brown fox jumps over the lazy dog let's see how that goes\n"
     ]
    }
   ],
   "source": [
    "#This code runs an audio file in wav format into text\n",
    "#You need to download the conda packages in your notebook using conda \n",
    "#You also need to download the speech recognition package on your notebook\n",
    "#pip install pipwin\n",
    "#conda config --add channels conda-forge \n",
    "#conda install pyaudio\n",
    "#conda update -n base -c defaults conda\n",
    "#conda install speechrecognition\n",
    "import speech_recognition as sr \n",
    "from collections import Counter \n",
    "\n",
    "r = sr.Recognizer()\n",
    "#make sure the file is in the same folder as where you are running your code\n",
    "Arnold = sr.AudioFile('Fox.wav')\n",
    "with Arnold as source:\n",
    "    r.adjust_for_ambient_noise(source) #removing noise in the audio file\n",
    "    audio = r.record(source)\n",
    "\n",
    "r.recognize_google(audio) #depending with connectivity the audio file is transcribed\n",
    "\n",
    "# recognize (convert from speech to text)\n",
    "text = r.recognize_google(audio)\n",
    "print(text)\n",
    "\n",
    "\n"
   ]
  },
  {
   "cell_type": "code",
   "execution_count": 44,
   "metadata": {},
   "outputs": [
    {
     "name": "stdout",
     "output_type": "stream",
     "text": [
      "String\n",
      "my name is Arnold are 24 years old and this is a python program\n",
      "\n",
      "List\n",
      "['my', 'name', 'is', 'Arnold', 'are', '24', 'years', 'old', 'and', 'this', 'is', 'a', 'python', 'program']\n",
      "\n",
      "Frequencies\n",
      "[1, 1, 2, 1, 1, 1, 1, 1, 1, 1, 2, 1, 1, 1]\n",
      "\n",
      "Pairs\n",
      "[('my', 1), ('name', 1), ('is', 2), ('Arnold', 1), ('are', 1), ('24', 1), ('years', 1), ('old', 1), ('and', 1), ('this', 1), ('is', 2), ('a', 1), ('python', 1), ('program', 1)]\n"
     ]
    }
   ],
   "source": [
    "wordlist = text.split()\n",
    "\n",
    "wordfreq = []\n",
    "for w in wordlist:\n",
    "    wordfreq.append(wordlist.count(w))\n",
    "\n",
    "print(\"String\\n\" + text +\"\\n\")\n",
    "print(\"List\\n\" + str(wordlist) + \"\\n\")\n",
    "print(\"Frequencies\\n\" + str(wordfreq) + \"\\n\")\n",
    "print(\"Pairs\\n\" + str(list(zip(wordlist, wordfreq))))"
   ]
  },
  {
   "cell_type": "code",
   "execution_count": 59,
   "metadata": {},
   "outputs": [
    {
     "name": "stdout",
     "output_type": "stream",
     "text": [
      "Pairs\n",
      "[('my', 1), ('name', 1), ('is', 2), ('Arnold', 1), ('are', 1), ('24', 1), ('years', 1), ('old', 1), ('and', 1), ('this', 1), ('is', 2), ('a', 1), ('python', 1), ('program', 1)]\n"
     ]
    }
   ],
   "source": [
    "wordlist = text.split()\n",
    "\n",
    "wordfreq = []\n",
    "for w in wordlist:\n",
    "    wordfreq.append(wordlist.count(w))\n",
    "print(\"Pairs\\n\" + str(list(zip(wordlist, wordfreq))))\n"
   ]
  },
  {
   "cell_type": "code",
   "execution_count": 90,
   "metadata": {},
   "outputs": [
    {
     "name": "stdout",
     "output_type": "stream",
     "text": [
      "{'my': 1, 'name': 1, 'is': 2, 'Arnold': 1, 'are': 1, '24': 1, 'years': 1, 'old': 1, 'and': 1, 'this': 1, 'a': 1, 'python': 1, 'program': 1}\n"
     ]
    }
   ],
   "source": [
    "wordlist = text.split()\n",
    "\n",
    "def wordListToFreqDict(wordlist):\n",
    "    wordfreq = [wordlist.count(p) for p in wordlist]\n",
    "    return dict(list(zip(wordlist,wordfreq)))\n",
    "#print(wordListToFreqDict(wordlist))\n",
    "\n",
    "FreqDict = (wordListToFreqDict(wordlist))\n",
    "print (FreqDict)"
   ]
  },
  {
   "cell_type": "code",
   "execution_count": 92,
   "metadata": {},
   "outputs": [
    {
     "name": "stdout",
     "output_type": "stream",
     "text": [
      "[(2, 'is'), (1, 'years'), (1, 'this'), (1, 'python'), (1, 'program'), (1, 'old'), (1, 'name'), (1, 'my'), (1, 'are'), (1, 'and'), (1, 'a'), (1, 'Arnold'), (1, '24')]\n"
     ]
    }
   ],
   "source": [
    "def sortFreqDict(FreqDict):\n",
    "    aux = [(FreqDict[key], key) for key in FreqDict]\n",
    "    aux.sort()\n",
    "    aux.reverse()\n",
    "    return aux\n",
    "sortedList = sortFreqDict(FreqDict)\n",
    "print (sortedList)"
   ]
  }
 ],
 "metadata": {
  "kernelspec": {
   "display_name": "Python 3",
   "language": "python",
   "name": "python3"
  },
  "language_info": {
   "codemirror_mode": {
    "name": "ipython",
    "version": 3
   },
   "file_extension": ".py",
   "mimetype": "text/x-python",
   "name": "python",
   "nbconvert_exporter": "python",
   "pygments_lexer": "ipython3",
   "version": "3.7.6"
  }
 },
 "nbformat": 4,
 "nbformat_minor": 4
}
