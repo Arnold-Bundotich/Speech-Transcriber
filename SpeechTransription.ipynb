{
 "cells": [
  {
   "cell_type": "code",
   "execution_count": 2,
   "metadata": {},
   "outputs": [
    {
     "name": "stdout",
     "output_type": "stream",
     "text": [
      "Please talk now : \n",
      "You Said : path of a barracuda\n"
     ]
    }
   ],
   "source": [
    "##This code runs an audio file in wav format into text\n",
    "#You need to download the conda packages in your notebook using conda \n",
    "#You also need to download the speech recognition package on your notebook\n",
    "#pip install pipwin\n",
    "#conda config --add channels conda-forge \n",
    "#conda install pyaudio\n",
    "#conda update -n base -c defaults conda\n",
    "#conda install speechrecognition\n",
    "import speech_recognition as sr \n",
    "\n",
    "r = sr.Recognizer()\n",
    "\n",
    "with sr.Microphone() as source:\n",
    "    print('Please talk now : ') #signifies start of speech\n",
    "    r.adjust_for_ambient_noise(source)\n",
    "    audio = r.listen(source) #the audio is sourced from microphone\n",
    "    \n",
    "    try:\n",
    "        text = r.recognize_google(audio)\n",
    "        print ('You Said : {}'.format(text))\n",
    "    except:\n",
    "        print('Invalid')"
   ]
  }
 ],
 "metadata": {
  "kernelspec": {
   "display_name": "Python 3",
   "language": "python",
   "name": "python3"
  },
  "language_info": {
   "codemirror_mode": {
    "name": "ipython",
    "version": 3
   },
   "file_extension": ".py",
   "mimetype": "text/x-python",
   "name": "python",
   "nbconvert_exporter": "python",
   "pygments_lexer": "ipython3",
   "version": "3.7.6"
  }
 },
 "nbformat": 4,
 "nbformat_minor": 4
}
